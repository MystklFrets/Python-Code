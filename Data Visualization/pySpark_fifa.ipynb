{
 "cells": [
  {
   "cell_type": "code",
   "execution_count": 1,
   "metadata": {},
   "outputs": [],
   "source": [
    "from pyspark import SparkContext"
   ]
  },
  {
   "cell_type": "code",
   "execution_count": 2,
   "metadata": {},
   "outputs": [],
   "source": [
    "from pyspark.sql import SparkSession\n",
    "spark = SparkSession \\\n",
    "    .builder \\\n",
    "    .appName('Python Spark SQL basic example') \\\n",
    "    .config('hive.metastore.uris', 'thrift://localhost:9083') \\\n",
    "    .getOrCreate()"
   ]
  },
  {
   "cell_type": "code",
   "execution_count": 6,
   "metadata": {},
   "outputs": [
    {
     "name": "stdout",
     "output_type": "stream",
     "text": [
      "+------+--------------+-----------------+\n",
      "|Totals|   Nationality|         AvgSkill|\n",
      "+------+--------------+-----------------+\n",
      "|    19|    Cape Verde|71.63157894736842|\n",
      "|   322|      Portugal|71.34472049689441|\n",
      "|   827|        Brazil| 71.2515114873035|\n",
      "|    60|       Algeria|70.63333333333334|\n",
      "|   149|       Uruguay|70.42953020134229|\n",
      "|    73|       Ukraine|70.42465753424658|\n",
      "|    31|         Egypt| 70.2258064516129|\n",
      "|    37|          Peru|70.21621621621621|\n",
      "|    79|        Russia| 70.0632911392405|\n",
      "|    85|       Morocco|69.94117647058823|\n",
      "|   126|        Serbia|69.92857142857143|\n",
      "|  1072|         Spain|69.69869402985074|\n",
      "|    85|      Paraguay|69.61176470588235|\n",
      "|   126|       Croatia|69.56349206349206|\n",
      "|    55|      Slovenia|69.52727272727273|\n",
      "|   100|Czech Republic|            69.51|\n",
      "|   100|   Ivory Coast|            69.39|\n",
      "|    38|       Hungary|69.23684210526316|\n",
      "|    52|      DR Congo|69.21153846153847|\n",
      "|    16|      Honduras|          69.1875|\n",
      "+------+--------------+-----------------+\n",
      "only showing top 20 rows\n",
      "\n"
     ]
    }
   ],
   "source": [
    "df = spark.read.csv('fifa19_kaggle.csv')\n",
    "\n",
    "df2 = df.createOrReplaceTempView(\"fifa\")\n",
    "#df2 = spark.sql(\"SELECT fifa._c2 as Name, fifa._c3 as Age, fifa._c5 as Nationality, fifa._c7 as Skillz FROM fifa where fifa._c2 <> 'Name' ORDER BY 4 DESC\" )\n",
    "df2 = spark.sql(\"SELECT count(*) as Totals, fifa._c5 as Nationality, avg(fifa._c7) as AvgSkill from fifa where fifa._c2 <> 'Name' GROUP BY fifa._c5 HAVING COUNT(*) > 15 ORDER BY 3 DESC\")\n",
    "\n",
    "df2.show(20)\n",
    "\n",
    "\n",
    "#df2.groupBy('Nationality') \\\n",
    "#    .count()\\\n",
    "#    .show(100)\n",
    "\n",
    "#df2.sort(\"Nationality\", ascending=True).collect()\n",
    "\n",
    "\n",
    "#df2.select('Nationality', 'Totals').show()\n",
    "\n",
    "#df2.select(df2.Totals.between(10,50)) \\\n",
    "#    .show(10)\n",
    " \n",
    "#df.select('_c2', '_c3').show()\n",
    "\n",
    "#df.show()\n",
    "\n",
    "\n",
    "#WHERE countries._c0='Austria'\n"
   ]
  },
  {
   "cell_type": "code",
   "execution_count": 4,
   "metadata": {},
   "outputs": [],
   "source": [
    "df2.createGlobalTempView('results')"
   ]
  },
  {
   "cell_type": "code",
   "execution_count": 5,
   "metadata": {},
   "outputs": [
    {
     "name": "stdout",
     "output_type": "stream",
     "text": [
      "+------+--------------+-----------------+\n",
      "|Totals|   Nationality|         AvgSkill|\n",
      "+------+--------------+-----------------+\n",
      "|    19|    Cape Verde|71.63157894736842|\n",
      "|   322|      Portugal|71.34472049689441|\n",
      "|   827|        Brazil| 71.2515114873035|\n",
      "|    60|       Algeria|70.63333333333334|\n",
      "|   149|       Uruguay|70.42953020134229|\n",
      "|    73|       Ukraine|70.42465753424658|\n",
      "|    31|         Egypt| 70.2258064516129|\n",
      "|    37|          Peru|70.21621621621621|\n",
      "|    79|        Russia| 70.0632911392405|\n",
      "|    85|       Morocco|69.94117647058823|\n",
      "|   126|        Serbia|69.92857142857143|\n",
      "|  1072|         Spain|69.69869402985074|\n",
      "|    85|      Paraguay|69.61176470588235|\n",
      "|   126|       Croatia|69.56349206349206|\n",
      "|    55|      Slovenia|69.52727272727273|\n",
      "|   100|Czech Republic|            69.51|\n",
      "|   100|   Ivory Coast|            69.39|\n",
      "|    38|       Hungary|69.23684210526316|\n",
      "|    52|      DR Congo|69.21153846153847|\n",
      "|    16|      Honduras|          69.1875|\n",
      "+------+--------------+-----------------+\n",
      "only showing top 20 rows\n",
      "\n"
     ]
    }
   ],
   "source": [
    "results_df = spark.sql(\"SELECT * FROM global_temp.results\")\\\n",
    "            .show()"
   ]
  },
  {
   "cell_type": "code",
   "execution_count": null,
   "metadata": {},
   "outputs": [],
   "source": []
  }
 ],
 "metadata": {
  "kernelspec": {
   "display_name": "Python 3",
   "language": "python",
   "name": "python3"
  },
  "language_info": {
   "codemirror_mode": {
    "name": "ipython",
    "version": 3
   },
   "file_extension": ".py",
   "mimetype": "text/x-python",
   "name": "python",
   "nbconvert_exporter": "python",
   "pygments_lexer": "ipython3",
   "version": "3.7.3"
  }
 },
 "nbformat": 4,
 "nbformat_minor": 2
}
