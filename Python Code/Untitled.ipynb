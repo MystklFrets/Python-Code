{
 "cells": [
  {
   "cell_type": "code",
   "execution_count": 6,
   "metadata": {},
   "outputs": [],
   "source": [
    "def num_coins(cents):\n",
    "    if cents < 1:\n",
    "        return 0\n",
    "    coins = [25, 10, 5, 1]\n",
    "    num_of_coins = 0\n",
    "    for coin in coins:\n",
    "        num_of_coins += cents / coin\n",
    "        cents = cents % coin\n",
    "        if cents == 0:\n",
    "            break\n",
    "            \n",
    "        return num_of_coins"
   ]
  },
  {
   "cell_type": "code",
   "execution_count": 9,
   "metadata": {},
   "outputs": [
    {
     "data": {
      "text/plain": [
       "1.24"
      ]
     },
     "execution_count": 9,
     "metadata": {},
     "output_type": "execute_result"
    }
   ],
   "source": [
    "num_coins(31)"
   ]
  },
  {
   "cell_type": "code",
   "execution_count": 12,
   "metadata": {},
   "outputs": [
    {
     "name": "stdout",
     "output_type": "stream",
     "text": [
      "0\n",
      "1\n",
      "2\n",
      "3\n",
      "4\n"
     ]
    }
   ],
   "source": [
    "import time\n",
    "for i in range(0,5):\n",
    "    print(i)\n",
    "time.sleep(3)"
   ]
  },
  {
   "cell_type": "code",
   "execution_count": 3,
   "metadata": {},
   "outputs": [
    {
     "name": "stdout",
     "output_type": "stream",
     "text": [
      "noisnetxerepyH\n"
     ]
    }
   ],
   "source": [
    "# to reverse a string\n",
    "mystring = \"Hyperextension\"\n",
    "\n",
    "my_reversed_string = mystring[::-1]\n",
    "print(my_reversed_string)"
   ]
  },
  {
   "cell_type": "code",
   "execution_count": 4,
   "metadata": {},
   "outputs": [
    {
     "name": "stdout",
     "output_type": "stream",
     "text": [
      "Oh When The Saints Come Marching In\n"
     ]
    }
   ],
   "source": [
    "# capitalize first letter of a word\n",
    "myLCWords = 'Oh when the saints come marching in'\n",
    "\n",
    "myUCWords = myLCWords.title()\n",
    "\n",
    "print(myUCWords)\n",
    "\n"
   ]
  },
  {
   "cell_type": "code",
   "execution_count": 6,
   "metadata": {},
   "outputs": [
    {
     "name": "stdout",
     "output_type": "stream",
     "text": [
      "acbedgf\n"
     ]
    }
   ],
   "source": [
    "# this snippet acts like a de-duplication of a string\n",
    "repeatedString = 'aabbccccdddddeeeeffffggggg'\n",
    "\n",
    "# convert string above to a set\n",
    "mySet = set(repeatedString)\n",
    "\n",
    "# using a join, de-dep the set\n",
    "nonRepeated = ''.join(mySet)\n",
    "\n",
    "print(nonRepeated)\n",
    "\n"
   ]
  },
  {
   "cell_type": "code",
   "execution_count": 9,
   "metadata": {},
   "outputs": [
    {
     "name": "stdout",
     "output_type": "stream",
     "text": [
      "doobie doobie doo doobie doobie doo doobie doobie doo \n",
      "[2, 4, 6, 8, 2, 4, 6, 8, 2, 4, 6, 8]\n"
     ]
    }
   ],
   "source": [
    "# return a given string variable times\n",
    "\n",
    "n = 3 \n",
    "\n",
    "mySkring = \"doobie doobie doo \"\n",
    "myList = [2,4,6,8]\n",
    "\n",
    "print(mySkring*n)\n",
    "print(myList*n)\n"
   ]
  },
  {
   "cell_type": "code",
   "execution_count": 12,
   "metadata": {},
   "outputs": [
    {
     "name": "stdout",
     "output_type": "stream",
     "text": [
      "[5, 5, 5, 5, 5, 5, 5, 5]\n"
     ]
    }
   ],
   "source": [
    "# create a list based on a constant value\n",
    "n = 8\n",
    "\n",
    "myDynamicList = [5]*n\n",
    "print(myDynamicList)\n"
   ]
  },
  {
   "cell_type": "code",
   "execution_count": 14,
   "metadata": {},
   "outputs": [
    {
     "name": "stdout",
     "output_type": "stream",
     "text": [
      "[5, 10, 15, 20]\n"
     ]
    }
   ],
   "source": [
    "# multiply each element in a list by (n) number\n",
    "originalList = [1, 2, 3, 4]\n",
    "\n",
    "# make the multiplier dynamic\n",
    "multiplierNum = 5\n",
    "\n",
    "multipliedList = [multiplierNum*x for x in originalList]\n",
    "\n",
    "print(multipliedList)\n"
   ]
  },
  {
   "cell_type": "code",
   "execution_count": null,
   "metadata": {},
   "outputs": [],
   "source": []
  }
 ],
 "metadata": {
  "kernelspec": {
   "display_name": "Python 2",
   "language": "python",
   "name": "python2"
  },
  "language_info": {
   "codemirror_mode": {
    "name": "ipython",
    "version": 2
   },
   "file_extension": ".py",
   "mimetype": "text/x-python",
   "name": "python",
   "nbconvert_exporter": "python",
   "pygments_lexer": "ipython2",
   "version": "2.7.16"
  }
 },
 "nbformat": 4,
 "nbformat_minor": 2
}
