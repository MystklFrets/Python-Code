{
 "cells": [
  {
   "cell_type": "code",
   "execution_count": null,
   "metadata": {},
   "outputs": [],
   "source": [
    "def num_coins(cents):\n",
    "    if cents < 1:\n",
    "        return 0\n",
    "    coins = [25, 10, 5, 1]\n",
    "    num_of_coins = 0\n",
    "    for coin in coins:\n",
    "        num_of_coins += cents / coin\n",
    "        cents = cents % coin\n",
    "        if cents == 0:\n",
    "            break\n",
    "            \n",
    "        return num_of_coins"
   ]
  },
  {
   "cell_type": "code",
   "execution_count": null,
   "metadata": {},
   "outputs": [],
   "source": [
    "num_coins(31)"
   ]
  },
  {
   "cell_type": "code",
   "execution_count": null,
   "metadata": {},
   "outputs": [],
   "source": [
    "import time\n",
    "for i in range(0,5):\n",
    "    print(i)\n",
    "time.sleep(3)"
   ]
  },
  {
   "cell_type": "code",
   "execution_count": null,
   "metadata": {},
   "outputs": [],
   "source": [
    "# to reverse a string\n",
    "mystring = \"Hyperextension\"\n",
    "\n",
    "my_reversed_string = mystring[::-1]\n",
    "print(my_reversed_string)"
   ]
  },
  {
   "cell_type": "code",
   "execution_count": null,
   "metadata": {},
   "outputs": [],
   "source": [
    "# capitalize first letter of a word\n",
    "myLCWords = 'Oh when the saints come marching in'\n",
    "\n",
    "myUCWords = myLCWords.title()\n",
    "\n",
    "print(myUCWords)\n",
    "\n"
   ]
  },
  {
   "cell_type": "code",
   "execution_count": null,
   "metadata": {},
   "outputs": [],
   "source": [
    "# this snippet acts like a de-duplication of a string\n",
    "repeatedString = 'aabbccccdddddeeeeffffggggg'\n",
    "\n",
    "# convert string above to a set\n",
    "mySet = set(repeatedString)\n",
    "\n",
    "# using a join, de-dep the set\n",
    "nonRepeated = ''.join(mySet)\n",
    "\n",
    "print(nonRepeated)\n",
    "\n"
   ]
  },
  {
   "cell_type": "code",
   "execution_count": null,
   "metadata": {},
   "outputs": [],
   "source": [
    "# return a given string variable times\n",
    "\n",
    "n = 3 \n",
    "\n",
    "mySkring = \"doobie doobie doo \"\n",
    "myList = [2,4,6,8]\n",
    "\n",
    "print(mySkring*n)\n",
    "print(myList*n)\n"
   ]
  },
  {
   "cell_type": "code",
   "execution_count": null,
   "metadata": {},
   "outputs": [],
   "source": [
    "# create a list based on a constant value\n",
    "n = 8\n",
    "\n",
    "myDynamicList = [5]*n\n",
    "print(myDynamicList)\n"
   ]
  },
  {
   "cell_type": "code",
   "execution_count": null,
   "metadata": {},
   "outputs": [],
   "source": [
    "# multiply each element in a list by (n) number\n",
    "originalList = [1, 2, 3, 4]\n",
    "\n",
    "# make the multiplier dynamic\n",
    "multiplierNum = 5\n",
    "\n",
    "multipliedList = [multiplierNum*x for x in originalList]\n",
    "\n",
    "print(multipliedList)\n"
   ]
  },
  {
   "cell_type": "code",
   "execution_count": null,
   "metadata": {},
   "outputs": [],
   "source": [
    "# working with string functions\n",
    "\n",
    "string_1 = \"my name is Raul Fernando Gutierrez\"\n",
    "string_2 = \"nola@yahoo.com, mystklfrets@yahoo\"\n",
    "\n",
    "# default value to split is '' space\n",
    "print(string_1.split())\n",
    "\n",
    "# split commas\n",
    "print(string_2.split(','))\n",
    "\n",
    "# split useful for usernames from email address\n",
    "print(string_2.split('@'))\n",
    "\n"
   ]
  },
  {
   "cell_type": "code",
   "execution_count": null,
   "metadata": {},
   "outputs": [],
   "source": [
    "# combine list of strings into single string\n",
    "\n",
    "list_of_strings = [\"hello\", \"is\", \"there\", \"anybody\", \"out\", \"there\"]\n",
    "\n",
    "# use the argument to input what separator you want to use\n",
    "print('-'.join(list_of_strings))\n",
    "\n"
   ]
  },
  {
   "cell_type": "code",
   "execution_count": null,
   "metadata": {},
   "outputs": [],
   "source": [
    "# frequency of elements in a list\n",
    "import pandas as pd\n",
    "\n",
    "from collections import Counter\n",
    "\n",
    "myVotes = ['Yes', 'No', 'Yes', 'No', 'Yes', 'Yes', 'Yes', 'No', 'Yes', 'No', 'Yes', 'No', 'Yes', 'No', 'Yes', 'Yes', 'Yes','Yes','No', 'Yes', 'No', 'Yes', 'No', 'No', 'No', 'Yes']\n",
    "count = Counter(myVotes) # to set a counter object\n",
    "\n",
    "print(count) # to display count of each element in a list\n",
    "print(count.most_common(2)) # to display count of each element in a list\n",
    "\n",
    "df = pd.DataFrame(myVotes)\n",
    "\n",
    "\n",
    "df.columns = ['Votes']\n",
    "\n",
    "\n",
    "df['Total'] = df.groupby('Votes')['Votes'].transform('count')\n",
    "df.drop_duplicates()\n",
    "\n",
    "#df = df['percentage'] = df['Total']/df['Votes'].sum()\n",
    "\n",
    "#df.T \n",
    "\n",
    "\n",
    "#df = pd.DataFrame({0:list(myVotes)})\n",
    "#df.groupby(0).count()\n",
    "\n",
    "#df = df[0].value_counts()\n"
   ]
  },
  {
   "cell_type": "code",
   "execution_count": null,
   "metadata": {},
   "outputs": [],
   "source": [
    "# calculation percentage sample \n",
    "a = 15\n",
    "b = 11\n",
    "\n",
    "c = float(15) / float(26) \n",
    "\n",
    "print(100*round(c,3))\n"
   ]
  },
  {
   "cell_type": "code",
   "execution_count": null,
   "metadata": {},
   "outputs": [],
   "source": [
    "a, b = 8,0\n",
    "\n",
    "try:\n",
    "    print(a/b)\n",
    "    # exception raised when b is 0\n",
    "except ZeroDivisionError:\n",
    "    print(\"division by zero\")\n",
    "else:\n",
    "    print(\"no exceptions raised\")\n",
    "finally:\n",
    "    print(\"Run this always\")"
   ]
  },
  {
   "cell_type": "code",
   "execution_count": null,
   "metadata": {},
   "outputs": [],
   "source": [
    "# enumerate my index/value list\n",
    "\n",
    "import sys\n",
    "\n",
    "myIndexList = ['Overthinking','Over-Analyzing','Separates','Body','From','Mind','Withering','Intuition','Behind', 'Lateralus']\n",
    "\n",
    "for index, value in enumerate(myIndexList):\n",
    "    print('{0}: {1}'.format(index, value))\n",
    "    \n",
    "\n",
    "print(sys.getsizeof(myIndexList))\n"
   ]
  },
  {
   "cell_type": "code",
   "execution_count": null,
   "metadata": {},
   "outputs": [],
   "source": [
    "import time\n",
    "\n",
    "start_time = time.time()\n",
    "# Code to check follows\n",
    "a, b = 100,2000\n",
    "c = a+ b*2\n",
    "# Code to check ends\n",
    "end_time = time.time()\n",
    "time_taken_in_micro = (end_time- start_time)*(10**6)\n",
    "\n",
    "print(\"Time taken in micro_seconds: {0} ms\").format(time_taken_in_micro)\n",
    "print(c)"
   ]
  },
  {
   "cell_type": "code",
   "execution_count": null,
   "metadata": {},
   "outputs": [],
   "source": [
    "from iteration_utilities import deepflatten\n",
    "\n",
    "# if you only have one depth nested_list, use this\n",
    "def flatten(l):\n",
    "  return [item for sublist in l for item in sublist]\n",
    "\n",
    "l = [[1,2,3],[3]]\n",
    "print(flatten(l))\n",
    "# [1, 2, 3, 3]\n",
    "\n",
    "# if you don't know how deep the list is nested\n",
    "l = [[1,2,3],[4,[5],[6,7]],[8,[9,[10]]]]\n",
    "\n",
    "print(list(deepflatten(l, depth=3)))\n",
    "# [1, 2, 3, 4, 5, 6, 7, 8, 9, 10]"
   ]
  },
  {
   "cell_type": "code",
   "execution_count": 11,
   "metadata": {},
   "outputs": [
    {
     "name": "stdout",
     "output_type": "stream",
     "text": [
      "['Edelman', 'Diggs', 'Evans']\n"
     ]
    }
   ],
   "source": [
    "# random names generator\n",
    "\n",
    "import random\n",
    "\n",
    "my_list = ['Diggs', 'Edelman', 'Evans', 'Metcalf', 'Kirk']\n",
    "num_samples = 3\n",
    "\n",
    "samples = random.sample(my_list,num_samples)\n",
    "print(samples)\n"
   ]
  },
  {
   "cell_type": "code",
   "execution_count": 13,
   "metadata": {},
   "outputs": [
    {
     "ename": "ImportError",
     "evalue": "No module named secrets",
     "output_type": "error",
     "traceback": [
      "\u001b[0;31m---------------------------------------------------------------------------\u001b[0m",
      "\u001b[0;31mImportError\u001b[0m                               Traceback (most recent call last)",
      "\u001b[0;32m<ipython-input-13-ef14af3f4294>\u001b[0m in \u001b[0;36m<module>\u001b[0;34m()\u001b[0m\n\u001b[0;32m----> 1\u001b[0;31m \u001b[0;32mimport\u001b[0m \u001b[0msecrets\u001b[0m                              \u001b[0;31m# imports secure module.\u001b[0m\u001b[0;34m\u001b[0m\u001b[0m\n\u001b[0m\u001b[1;32m      2\u001b[0m \u001b[0msecure_random\u001b[0m \u001b[0;34m=\u001b[0m \u001b[0msecrets\u001b[0m\u001b[0;34m.\u001b[0m\u001b[0mSystemRandom\u001b[0m\u001b[0;34m(\u001b[0m\u001b[0;34m)\u001b[0m      \u001b[0;31m# creates a secure random object.\u001b[0m\u001b[0;34m\u001b[0m\u001b[0m\n\u001b[1;32m      3\u001b[0m \u001b[0;34m\u001b[0m\u001b[0m\n\u001b[1;32m      4\u001b[0m \u001b[0mmy_list\u001b[0m \u001b[0;34m=\u001b[0m \u001b[0;34m[\u001b[0m\u001b[0;34m'Diggs'\u001b[0m\u001b[0;34m,\u001b[0m \u001b[0;34m'Edelman'\u001b[0m\u001b[0;34m,\u001b[0m \u001b[0;34m'Evans'\u001b[0m\u001b[0;34m,\u001b[0m \u001b[0;34m'Metcalf'\u001b[0m\u001b[0;34m,\u001b[0m \u001b[0;34m'Kirk'\u001b[0m\u001b[0;34m]\u001b[0m\u001b[0;34m\u001b[0m\u001b[0m\n\u001b[1;32m      5\u001b[0m \u001b[0mnum_samples\u001b[0m \u001b[0;34m=\u001b[0m \u001b[0;36m3\u001b[0m\u001b[0;34m\u001b[0m\u001b[0m\n",
      "\u001b[0;31mImportError\u001b[0m: No module named secrets"
     ]
    }
   ],
   "source": [
    "import secrets                              # imports secure module.\n",
    "secure_random = secrets.SystemRandom()      # creates a secure random object.\n",
    "\n",
    "my_list = ['Diggs', 'Edelman', 'Evans', 'Metcalf', 'Kirk']\n",
    "num_samples = 3\n",
    "\n",
    "getPlayers = secure_random.sample(my_list, num_samples)\n",
    "\n",
    "print(getPlayers)\n",
    "# [ 'e', 'd'] this will have any 2 random values"
   ]
  },
  {
   "cell_type": "code",
   "execution_count": 18,
   "metadata": {},
   "outputs": [
    {
     "name": "stdout",
     "output_type": "stream",
     "text": [
      "All elements are unique\n",
      "List has duplicates\n"
     ]
    }
   ],
   "source": [
    "# function to check for unique values\n",
    "\n",
    "def unique(l):\n",
    "    if len(l)==len(set(l)):\n",
    "        print(\"All elements are unique\")\n",
    "    else:\n",
    "        print(\"List has duplicates\")\n",
    "\n",
    "unique([\"Jason\", \"Nolan\", \"Max\", \"Clayton\"])\n",
    "# All elements are unique\n",
    "\n",
    "unique([\"Jason\", \"Jason\", \"Nolan\", \"Max\", \"Clayton\"])\n",
    "# List has duplicates"
   ]
  },
  {
   "cell_type": "code",
   "execution_count": null,
   "metadata": {},
   "outputs": [],
   "source": []
  }
 ],
 "metadata": {
  "kernelspec": {
   "display_name": "Python 2",
   "language": "python",
   "name": "python2"
  },
  "language_info": {
   "codemirror_mode": {
    "name": "ipython",
    "version": 2
   },
   "file_extension": ".py",
   "mimetype": "text/x-python",
   "name": "python",
   "nbconvert_exporter": "python",
   "pygments_lexer": "ipython2",
   "version": "2.7.16"
  }
 },
 "nbformat": 4,
 "nbformat_minor": 2
}
